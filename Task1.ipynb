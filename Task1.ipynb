{
  "metadata": {
    "kernelspec": {
      "name": "python",
      "display_name": "Python (Pyodide)",
      "language": "python"
    },
    "language_info": {
      "codemirror_mode": {
        "name": "python",
        "version": 3
      },
      "file_extension": ".py",
      "mimetype": "text/x-python",
      "name": "python",
      "nbconvert_exporter": "python",
      "pygments_lexer": "ipython3",
      "version": "3.8"
    }
  },
  "nbformat_minor": 5,
  "nbformat": 4,
  "cells": [
    {
      "id": "f330625d-c4a4-4cb0-8148-cd6da1102e1e",
      "cell_type": "code",
      "source": "import cv2\nimport numpy as np\n\n\ndef detect_shapes(image_path, area_threshold=500):\n    image = cv2.imread(r\"C:/Users/akars/OneDrive/Desktop/shapes.jpg\", )\n    if image is None:\n        print(f\"Failed to load image at {r\"C:/Users/akars/OneDrive/Desktop/shapes.jpg\"}\")\n        return\n    gray = cv2.cvtColor(image, cv2.COLOR_BGR2GRAY)\n    \n    # Apply Gaussian blur and Canny edge detection\n    blur = cv2.GaussianBlur(gray, (5, 5), 0)\n    edges = cv2.Canny(blur, 50, 150)\n    \n    # Find contours\n    contours, _ = cv2.findContours(edges.copy(), cv2.RETR_EXTERNAL, cv2.CHAIN_APPROX_SIMPLE)\n    \n    # Iterate through contours\n    for contour in contours:\n        area = cv2.contourArea(contour)\n        \n        # Ignore small contours below the threshold\n        if area < area_threshold:\n            continue\n        \n        # Approximate the shape\n        peri = cv2.arcLength(contour, True)\n        approx = cv2.approxPolyDP(contour, 0.04 * peri, True)\n        \n        shape_name = \"Unknown\"\n        x, y, w, h = cv2.boundingRect(approx)\n        \n        # Shape classification\n        if len(approx) == 3:\n            shape_name = \"Triangle\"\n        elif len(approx) == 4:\n            aspect_ratio = float(w) / h\n            shape_name = \"Square\" if 0.95 <= aspect_ratio <= 1.05 else \"Rectangle\"\n        elif len(approx) == 5:\n            shape_name = \"Pentagon\"\n        elif len(approx) > 10:\n            shape_name = \"Circle\"\n        \n        # Draw contour and label shape with area\n        cv2.drawContours(image, [contour], -1, (0, 255, 0), 2)\n        cv2.putText(image, f\"{shape_name} (Area: {int(area)})\", (x, y - 10), \n                    cv2.FONT_HERSHEY_SIMPLEX, 0.5, (255, 0, 0), 2)\n        \n        # Print shape and area\n        print(f\"Detected {shape_name} with area: {int(area)} pixels\")\n    \n    # Show the result\n    cv2.imshow(\"Detected Shapes\", image)\n    cv2.waitKey(0)\n    cv2.destroyAllWindows()\n\ndetect_shapes(r\"C:/Users/akars/OneDrive/Desktop/shapes.jpg\", area_threshold=500)",
      "metadata": {
        "trusted": true
      },
      "outputs": [],
      "execution_count": null
    }
  ]
}